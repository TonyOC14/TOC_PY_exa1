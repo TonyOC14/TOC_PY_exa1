{
  "nbformat": 4,
  "nbformat_minor": 0,
  "metadata": {
    "colab": {
      "provenance": [],
      "authorship_tag": "ABX9TyNtSVR+2uH8glQMJqhxRSCV",
      "include_colab_link": true
    },
    "kernelspec": {
      "name": "python3",
      "display_name": "Python 3"
    },
    "language_info": {
      "name": "python"
    }
  },
  "cells": [
    {
      "cell_type": "markdown",
      "metadata": {
        "id": "view-in-github",
        "colab_type": "text"
      },
      "source": [
        "<a href=\"https://colab.research.google.com/github/TonyOC14/TOC_PY_exa1/blob/main/Examen_Pregunta1.ipynb\" target=\"_parent\"><img src=\"https://colab.research.google.com/assets/colab-badge.svg\" alt=\"Open In Colab\"/></a>"
      ]
    },
    {
      "cell_type": "markdown",
      "source": [
        "Escribe una funcion de Python en collaboratory que realice lo siguiente:\n",
        "\n",
        "funcion que retorne un diccionario con los datos basicos de un alumno (pedir al usuario y validar)\n",
        "\n",
        "Escribir codigo que mande llamar la funcion y desplegar el resultado,\n",
        "\n",
        "Escribir enlace a GITHUB a un dcto que se llame INICIALES_PY_exa1"
      ],
      "metadata": {
        "id": "dapCyOpZ51M0"
      }
    },
    {
      "cell_type": "code",
      "execution_count": 1,
      "metadata": {
        "id": "X3ugOUUM5rFO"
      },
      "outputs": [],
      "source": [
        "import random\n",
        "from IPython.display import clear_output\n",
        "import time\n",
        "import pprint\n",
        "import pandas as pd\n",
        "import operator"
      ]
    },
    {
      "cell_type": "code",
      "source": [
        "def imprimir(dicc_list):\n",
        "    salida=pd.DataFrame(dicc_list)\n",
        "    print(salida.to_string(index=False))"
      ],
      "metadata": {
        "id": "DXaNf09D50_w"
      },
      "execution_count": 2,
      "outputs": []
    },
    {
      "cell_type": "code",
      "source": [
        "def vali_num(ri,rf,msg):\n",
        "    salida = 1\n",
        "    while(salida == 1):\n",
        "            try:\n",
        "                n = input(f\"{msg}\")\n",
        "                n_entero = int(n)\n",
        "                if int(n):\n",
        "                    if(n_entero >= ri and n_entero <= rf):\n",
        "                        salida = 0\n",
        "                        return n_entero\n",
        "                    else:\n",
        "                        salida = 1\n",
        "            except ValueError:\n",
        "                print(\"Unicamente ingrese NUMEROS\")\n",
        "                print(\"Intenta de nuevo\")"
      ],
      "metadata": {
        "id": "1k98Yk7267Jq"
      },
      "execution_count": 3,
      "outputs": []
    },
    {
      "cell_type": "code",
      "source": [
        "def mandic():\n",
        "  Nombre=input(\"Ingrese su nombre \")\n",
        "  ap1=input(\"Ingrese su apellido paterno \")\n",
        "  ap2=input(\"Ingrese su apellido materno \")\n",
        "  id=vali_num(300000,399999,\"Ingrese su matricula \")\n",
        "  print(\"Seleccione su sexo:\")\n",
        "  print(\"1-Hombre\")\n",
        "  print(\"2-Mujer\")\n",
        "  s = vali_num(1,2,\"Seleccione su sexo \")\n",
        "  if s==1:\n",
        "    Sexo=\"Hombre\"\n",
        "  elif s==2:\n",
        "    Sexo=\"Mujer\"\n",
        "  else:\n",
        "    print(\"Ingrese una opcion valida\")\n",
        "    input(\"Presione ENTER \")\n",
        "    clear_output()\n",
        "  print(\"Cual es su carrera?\")\n",
        "  print(\"1-Ingenieria en software\")\n",
        "  print(\"2-Ingenieria en computacion\")\n",
        "  print(\"3-Bioingenieria\")\n",
        "  print(\"4-Ingenieria industrial\")\n",
        "  print(\"5-Nanotecnologia\")\n",
        "  print(\"6-Ingenieria civil\")\n",
        "  print(\"7-Tronco comun\")\n",
        "  op = vali_num(1,7,\"Ingresa la opcion \")\n",
        "  if op == 1:\n",
        "    carrera = \"Ingenieria en software\"\n",
        "  elif op == 2:\n",
        "    carrera = \"Ingenieria en computacion\"\n",
        "  elif op == 3:\n",
        "    carrera = \"Bioingenieria\"\n",
        "  elif op == 4:\n",
        "    carrera = \"Ingenieria industrial\"\n",
        "  elif op == 5:\n",
        "    carrera = \"Nanotecnologia\"\n",
        "  elif op == 6:\n",
        "    carrera = \"Ingenieria civil\"\n",
        "  elif op == 7:\n",
        "    carrera = \"Tronco comun\"\n",
        "  else:\n",
        "    print(\"Ingrese una opcion valida \")\n",
        "    input(\"Presione ENTER \")\n",
        "    clear_output()\n",
        "  if op == 7:\n",
        "    print(\"Que semestre esta cursando?\")\n",
        "    print(\"1-1er Semestre\")\n",
        "    print(\"2-2do Semestre\")\n",
        "    curso=vali_num(1,2,\"Seleccione su Semestre \")\n",
        "    if curso == 1:\n",
        "      semestre = \"1ro\"\n",
        "    elif curso == 2:\n",
        "      semestre = \"2do\"\n",
        "  else:\n",
        "    print(\"Que semestre esta cursando?\")\n",
        "    print(\"1-3ro Semestre\")\n",
        "    print(\"2-4to Semestre\")\n",
        "    print(\"3-5to Semestre\")\n",
        "    print(\"4-6to Semestre\")\n",
        "    print(\"5-7mo Semestre\")\n",
        "    print(\"6-8vo Semestre\")\n",
        "    print(\"7-9no Semestre\")\n",
        "    curso=vali_num(1,7,\"Seleccione su Semestre \")\n",
        "    if curso == 1:\n",
        "      semestre = \"3ro\"\n",
        "    elif curso == 2:\n",
        "      semestre = \"4to\"\n",
        "    elif curso == 3:\n",
        "      semestre = \"5to\"\n",
        "    elif curso == 4:\n",
        "      semestre = \"6to\"\n",
        "    elif curso == 5:\n",
        "      semestre = \"7mo\"\n",
        "    elif curso == 6:\n",
        "      semestre = \"8vo\"\n",
        "    elif curso == 7:\n",
        "      semestre = \"9no\"\n",
        "    else:\n",
        "      print(\"Ingrese una opcion valida \")\n",
        "      input(\"Presione ENTER \")\n",
        "      clear_output()\n",
        "\n",
        "  dic={'Matricula':id,'Nombre':Nombre,'Apellido paterno':ap1,'Apellido materno':ap2,'Sexo':Sexo,'Carrera':carrera,'Semestre':semestre}\n",
        "  return dic"
      ],
      "metadata": {
        "id": "9ypLpEhe7RDa"
      },
      "execution_count": 22,
      "outputs": []
    },
    {
      "cell_type": "code",
      "source": [
        "dic_alum=[]\n",
        "print(\"Bienvido alumno, a continuacion se le pediran sus datos basicos\")\n",
        "datos=mandic()\n",
        "dic_alum.append(datos)\n",
        "imprimir(dic_alum)\n",
        "print(\"Hasta luego :)\")"
      ],
      "metadata": {
        "colab": {
          "base_uri": "https://localhost:8080/"
        },
        "id": "Q4MUQzUK-S_g",
        "outputId": "ae15ea76-f4cf-4851-cc96-0eced9a3eddd"
      },
      "execution_count": 25,
      "outputs": [
        {
          "output_type": "stream",
          "name": "stdout",
          "text": [
            "Bienvido alumno, a continuacion se le pediran sus datos basicos\n",
            "Ingrese su nombre Tony\n",
            "Ingrese su apellido paterno Ozuna\n",
            "Ingrese su apellido materno Ceseña\n",
            "Ingrese su matricula 372270\n",
            "Seleccione su sexo:\n",
            "1-Hombre\n",
            "2-Mujer\n",
            "Seleccione su sexo 3\n",
            "Seleccione su sexo 1\n",
            "Cual es su carrera?\n",
            "1-Ingenieria en software\n",
            "2-Ingenieria en computacion\n",
            "3-Bioingenieria\n",
            "4-Ingenieria industrial\n",
            "5-Nanotecnologia\n",
            "6-Ingenieria civil\n",
            "7-Tronco comun\n",
            "Ingresa la opcion k\n",
            "Unicamente ingrese NUMEROS\n",
            "Intenta de nuevo\n",
            "Ingresa la opcion 2\n",
            "Que semestre esta cursando?\n",
            "1-3ro Semestre\n",
            "2-4to Semestre\n",
            "3-5to Semestre\n",
            "4-6to Semestre\n",
            "5-7mo Semestre\n",
            "6-8vo Semestre\n",
            "7-9no Semestre\n",
            "Seleccione su Semestre ;\n",
            "Unicamente ingrese NUMEROS\n",
            "Intenta de nuevo\n",
            "Seleccione su Semestre 1\n",
            " Matricula Nombre Apellido paterno Apellido materno   Sexo                   Carrera Semestre\n",
            "    372270   Tony            Ozuna           Ceseña Hombre Ingenieria en computacion      3ro\n",
            "Hasta luego :)\n"
          ]
        }
      ]
    }
  ]
}