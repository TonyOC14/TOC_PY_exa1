{
  "nbformat": 4,
  "nbformat_minor": 0,
  "metadata": {
    "colab": {
      "provenance": [],
      "authorship_tag": "ABX9TyPwlwnv8vw5zic5zjQ/bKqu",
      "include_colab_link": true
    },
    "kernelspec": {
      "name": "python3",
      "display_name": "Python 3"
    },
    "language_info": {
      "name": "python"
    }
  },
  "cells": [
    {
      "cell_type": "markdown",
      "metadata": {
        "id": "view-in-github",
        "colab_type": "text"
      },
      "source": [
        "<a href=\"https://colab.research.google.com/github/TonyOC14/TOC_PY_exa1/blob/main/TOC_PY_exa1_parte3.ipynb\" target=\"_parent\"><img src=\"https://colab.research.google.com/assets/colab-badge.svg\" alt=\"Open In Colab\"/></a>"
      ]
    },
    {
      "cell_type": "markdown",
      "source": [
        "Escribe una funcion de Python en collaboratory que realice lo siguiente:\n",
        "\n",
        "funcion que retorne el factorial de un numero dado\n",
        "\n",
        "Escribir codigo que mande llamar la funcion y desplegar el resultado,\n",
        "\n",
        "Escribir enlace a GITHUB a un dcto que se llame INICIALES_PY_exa1"
      ],
      "metadata": {
        "id": "DNhGfZJ-HPAg"
      }
    },
    {
      "cell_type": "code",
      "source": [
        "def vali_num(ri,rf,msg):\n",
        "    salida = 1\n",
        "    while(salida == 1):\n",
        "            try:\n",
        "                n = input(f\"{msg}\")\n",
        "                n_entero = int(n)\n",
        "                if int(n):\n",
        "                    if(n_entero >= ri and n_entero <= rf):\n",
        "                        salida = 0\n",
        "                        return n_entero\n",
        "                    else:\n",
        "                        salida = 1\n",
        "            except ValueError:\n",
        "                print(\"Unicamente ingrese NUMEROS\")\n",
        "                print(\"Intenta de nuevo\")"
      ],
      "metadata": {
        "id": "AOHOVKe5Hc8v"
      },
      "execution_count": 1,
      "outputs": []
    },
    {
      "cell_type": "code",
      "execution_count": 2,
      "metadata": {
        "id": "6-z5vrxKHEUv"
      },
      "outputs": [],
      "source": [
        "def factorial(num):\n",
        "    factorial = 1\n",
        "    i = 1\n",
        "    while (i <= num):\n",
        "        factorial = factorial * i\n",
        "        i = i + 1\n",
        "\n",
        "    print(f\"El factorial de {num} es: {factorial} \")"
      ]
    },
    {
      "cell_type": "code",
      "source": [
        "numero = vali_num(1,9999999999,\"De que numero desea conocer su factorial? \")\n",
        "factorial(numero)"
      ],
      "metadata": {
        "colab": {
          "base_uri": "https://localhost:8080/"
        },
        "id": "n26rUxv_IOjx",
        "outputId": "95554af2-3016-400e-a8b8-40898480d57b"
      },
      "execution_count": 4,
      "outputs": [
        {
          "output_type": "stream",
          "name": "stdout",
          "text": [
            "De que numero desea conocer su factorial? 5\n",
            "El factorial de 5 es: 120 \n"
          ]
        }
      ]
    }
  ]
}