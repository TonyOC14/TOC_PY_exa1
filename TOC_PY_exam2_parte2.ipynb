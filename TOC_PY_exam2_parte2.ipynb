{
  "nbformat": 4,
  "nbformat_minor": 0,
  "metadata": {
    "colab": {
      "provenance": [],
      "authorship_tag": "ABX9TyOZwMTGJsfeidCXX3iRo7wq",
      "include_colab_link": true
    },
    "kernelspec": {
      "name": "python3",
      "display_name": "Python 3"
    },
    "language_info": {
      "name": "python"
    }
  },
  "cells": [
    {
      "cell_type": "markdown",
      "metadata": {
        "id": "view-in-github",
        "colab_type": "text"
      },
      "source": [
        "<a href=\"https://colab.research.google.com/github/TonyOC14/TOC_PY_exa1/blob/main/TOC_PY_exam2_parte2.ipynb\" target=\"_parent\"><img src=\"https://colab.research.google.com/assets/colab-badge.svg\" alt=\"Open In Colab\"/></a>"
      ]
    },
    {
      "cell_type": "markdown",
      "source": [
        "Escribe una funcion de Python en collaboratory que realice lo siguiente:\n",
        "\n",
        "funcion que retorne una lista con 30 numeros generados aleatorios (20-100) no repetidos\n",
        "\n",
        "Escribir codigo que mande llamar la funcion y desplegar el resultado,\n",
        "\n",
        "Escribir enlace a GITHUB a un dcto que se llame INICIALES_PY_exa1"
      ],
      "metadata": {
        "id": "_X_1J-d4EktR"
      }
    },
    {
      "cell_type": "code",
      "execution_count": 1,
      "metadata": {
        "id": "J-kTS3uGEgvq"
      },
      "outputs": [],
      "source": [
        "import random"
      ]
    },
    {
      "cell_type": "code",
      "source": [
        "def generarrandom():\n",
        "  lista = []\n",
        "  i=0\n",
        "  while i < 30:\n",
        "    num=random.randint(20,200)\n",
        "    if num not in lista:\n",
        "      lista.append(num)\n",
        "      i+=1\n",
        "  return lista"
      ],
      "metadata": {
        "id": "LCWsHy9yFFrg"
      },
      "execution_count": 11,
      "outputs": []
    },
    {
      "cell_type": "code",
      "source": [
        "def imprimir(lista):\n",
        "  for i,elemento in enumerate(lista):\n",
        "    print(f\"{i+1}- {elemento}\")"
      ],
      "metadata": {
        "id": "j-JAjfUNE8cR"
      },
      "execution_count": 3,
      "outputs": []
    },
    {
      "cell_type": "code",
      "source": [
        "listanum=generarrandom()\n",
        "imprimir(listanum)"
      ],
      "metadata": {
        "colab": {
          "base_uri": "https://localhost:8080/"
        },
        "id": "vxr2wqyxFBoK",
        "outputId": "b6fdf86e-34c3-42af-fce1-239440cd36de"
      },
      "execution_count": 12,
      "outputs": [
        {
          "output_type": "stream",
          "name": "stdout",
          "text": [
            "1- 134\n",
            "2- 198\n",
            "3- 90\n",
            "4- 155\n",
            "5- 30\n",
            "6- 158\n",
            "7- 161\n",
            "8- 106\n",
            "9- 185\n",
            "10- 24\n",
            "11- 171\n",
            "12- 184\n",
            "13- 152\n",
            "14- 70\n",
            "15- 53\n",
            "16- 108\n",
            "17- 31\n",
            "18- 179\n",
            "19- 187\n",
            "20- 144\n",
            "21- 25\n",
            "22- 21\n",
            "23- 80\n",
            "24- 51\n",
            "25- 176\n",
            "26- 58\n",
            "27- 149\n",
            "28- 151\n",
            "29- 57\n",
            "30- 55\n"
          ]
        }
      ]
    }
  ]
}